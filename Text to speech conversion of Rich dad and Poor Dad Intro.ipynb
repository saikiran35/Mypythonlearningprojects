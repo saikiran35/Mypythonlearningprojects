{
 "cells": [
  {
   "cell_type": "code",
   "execution_count": 8,
   "metadata": {},
   "outputs": [],
   "source": [
    "from gtts import gTTS \n",
    "  \n",
    "# This module is imported so that we can  \n",
    "# play the converted audio \n",
    "import os \n",
    "  \n",
    "# The text that you want to convert to audio \n",
    "#mytext = 'Welcome to geeksforgeeks!'\n",
    "  \n",
    "# Language in which you want to convert \n",
    "language = 'en'\n",
    "  \n",
    "# Passing the text and language to the engine,  \n",
    "# here we have marked slow=False. Which tells  \n",
    "# the module that the converted audio should  \n",
    "# have a high speed \n",
    "myobj = gTTS(text=intro, lang=language, slow=False) \n",
    "  \n",
    "# Saving the converted audio in a mp3 file named \n",
    "# welcome  \n",
    "myobj.save(\"intro.mp3\") \n",
    "  \n",
    "# Playing the converted file \n",
    "#os.system(\"mpg321 welcome.mp3\")"
   ]
  },
  {
   "cell_type": "code",
   "execution_count": 6,
   "metadata": {},
   "outputs": [],
   "source": [
    "intro = '''INTRODUCTION\n",
    "There is a Need\n",
    "Does school prepare children for the real world? “Study hard and get good grades and you will\n",
    "find a high-paying job with great benefits,” my parents used to say. Their goal in life was to\n",
    "provide a college education for my older sister and me, so that we would have the greatest\n",
    "chance for success in life. When I finally earned my diploma in 1976-graduating with honors,\n",
    "and near the top of my class, in accounting from Florida State University-my parents had\n",
    "realized their goal. It was the crowning achievement of their lives. In accordance with the\n",
    "“Master Plan,” I was hired by a “Big 8” accounting firm, and I looked forward to a long career\n",
    "and retirement at an early age.\n",
    "My husband, Michael, followed a similar path. We both came from hardworking families, of\n",
    "modest means but with strong work ethics. Michael also graduated with honors, but he did it\n",
    "twice: first as an engineer and then from law school. He was quickly recruited by a prestigious\n",
    "Washington, D.C., law firm that specialized in patent law, and his future seemed bright, career\n",
    "path well-defined and early retirement guaranteed.\n",
    "Although we have been successful in our careers, they have not turned out quite as we\n",
    "expected. We both have changed positions several times-for all the right reasons-but there are\n",
    "no pension plans vesting on our behalf. Our retirement funds are growing only through our\n",
    "individual contributions.\n",
    "Michael and I have a wonderful marriage with three great children. As I write this, two are in\n",
    "college and one is just beginning high school. We have spent a fortune making sure our children\n",
    "have received the best education available.\n",
    "One day in 1996, one of my children came home disillusioned with school. He was bored and\n",
    "tired of studying. “Why should I put time into studying subjects I will never use in real life?” he\n",
    "protested.\n",
    "Without thinking, I responded, “Because if you don't get good grades, you won't get into\n",
    "college.” “Regardless of whether I go to college,” he replied, “I'm going to be rich.”\n",
    "“If you don't graduate from college, you won't get a good job,” I responded with a tinge of panic\n",
    "and motherly concern. “And if you don't have a good job, how do you plan to get rich?”\n",
    "My son smirked and slowly shook his head with mild boredom. We have had this talk many\n",
    "times before. He lowered his head and rolled his eyes. My words of motherly wisdom were\n",
    "falling on deaf ears once again.\n",
    "Though smart and strong-willed, he has always been a polite and respectful young man.'''"
   ]
  },
  {
   "cell_type": "code",
   "execution_count": 7,
   "metadata": {},
   "outputs": [
    {
     "data": {
      "text/plain": [
       "\"INTRODUCTION\\nThere is a Need\\nDoes school prepare children for the real world? “Study hard and get good grades and you will\\nfind a high-paying job with great benefits,” my parents used to say. Their goal in life was to\\nprovide a college education for my older sister and me, so that we would have the greatest\\nchance for success in life. When I finally earned my diploma in 1976-graduating with honors,\\nand near the top of my class, in accounting from Florida State University-my parents had\\nrealized their goal. It was the crowning achievement of their lives. In accordance with the\\n“Master Plan,” I was hired by a “Big 8” accounting firm, and I looked forward to a long career\\nand retirement at an early age.\\nMy husband, Michael, followed a similar path. We both came from hardworking families, of\\nmodest means but with strong work ethics. Michael also graduated with honors, but he did it\\ntwice: first as an engineer and then from law school. He was quickly recruited by a prestigious\\nWashington, D.C., law firm that specialized in patent law, and his future seemed bright, career\\npath well-defined and early retirement guaranteed.\\nAlthough we have been successful in our careers, they have not turned out quite as we\\nexpected. We both have changed positions several times-for all the right reasons-but there are\\nno pension plans vesting on our behalf. Our retirement funds are growing only through our\\nindividual contributions.\\nMichael and I have a wonderful marriage with three great children. As I write this, two are in\\ncollege and one is just beginning high school. We have spent a fortune making sure our children\\nhave received the best education available.\\nOne day in 1996, one of my children came home disillusioned with school. He was bored and\\ntired of studying. “Why should I put time into studying subjects I will never use in real life?” he\\nprotested.\\nWithout thinking, I responded, “Because if you don't get good grades, you won't get into\\ncollege.” “Regardless of whether I go to college,” he replied, “I'm going to be rich.”\\n“If you don't graduate from college, you won't get a good job,” I responded with a tinge of panic\\nand motherly concern. “And if you don't have a good job, how do you plan to get rich?”\\nMy son smirked and slowly shook his head with mild boredom. We have had this talk many\\ntimes before. He lowered his head and rolled his eyes. My words of motherly wisdom were\\nfalling on deaf ears once again.\\nThough smart and strong-willed, he has always been a polite and respectful young man.\""
      ]
     },
     "execution_count": 7,
     "metadata": {},
     "output_type": "execute_result"
    }
   ],
   "source": [
    "intro"
   ]
  },
  {
   "cell_type": "code",
   "execution_count": null,
   "metadata": {},
   "outputs": [],
   "source": []
  }
 ],
 "metadata": {
  "kernelspec": {
   "display_name": "Python 3",
   "language": "python",
   "name": "python3"
  },
  "language_info": {
   "codemirror_mode": {
    "name": "ipython",
    "version": 3
   },
   "file_extension": ".py",
   "mimetype": "text/x-python",
   "name": "python",
   "nbconvert_exporter": "python",
   "pygments_lexer": "ipython3",
   "version": "3.7.4"
  }
 },
 "nbformat": 4,
 "nbformat_minor": 2
}
