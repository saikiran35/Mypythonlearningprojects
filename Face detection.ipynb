{
 "cells": [
  {
   "cell_type": "code",
   "execution_count": null,
   "metadata": {},
   "outputs": [],
   "source": [
    "import cv2\n",
    "Cascade_face = cv2.CascadeClassifier(\"F:\\\\DS by April end\\\\GIT check projects\\\\haar cascade files\\\\haarcascade_frontalface_alt.xml\")\n",
    "picture = cv2.imread(\"family.jpg\")\n",
    "gray = cv2.cvtColor(picture, cv2.COLOR_BGR2GRAY)\n",
    "faces = Cascade_face.detectMultiScale(gray,1.3,5)\n",
    "for (x,y,w,h) in faces:\n",
    "    #print(x,y,w,h/10)\n",
    "    cv2.rectangle(picture,(x,y),(x+w,y+h),(255,0,0),5)\n",
    "    font = cv2.FONT_ITALIC\n",
    "    cv2.putText(picture,\"Some Head\",(0,120),font,2,(255,120,0),4)\n",
    "cv2.imshow(\"face detection\", picture)\n",
    "while True:\n",
    "    if cv2.waitKey(1) & 0xFF == ord('q'):\n",
    "        cv2.destroyAllWindows()"
   ]
  },
  {
   "cell_type": "code",
   "execution_count": null,
   "metadata": {},
   "outputs": [],
   "source": []
  }
 ],
 "metadata": {
  "kernelspec": {
   "display_name": "Python 3",
   "language": "python",
   "name": "python3"
  },
  "language_info": {
   "codemirror_mode": {
    "name": "ipython",
    "version": 3
   },
   "file_extension": ".py",
   "mimetype": "text/x-python",
   "name": "python",
   "nbconvert_exporter": "python",
   "pygments_lexer": "ipython3",
   "version": "3.7.4"
  }
 },
 "nbformat": 4,
 "nbformat_minor": 2
}
